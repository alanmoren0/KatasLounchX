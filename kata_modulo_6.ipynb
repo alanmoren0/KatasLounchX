{
 "cells": [
  {
   "cell_type": "markdown",
   "metadata": {},
   "source": [
    "# Ejercicio1: Crear y usar listas de Python"
   ]
  },
  {
   "cell_type": "code",
   "execution_count": 2,
   "metadata": {},
   "outputs": [
    {
     "name": "stdout",
     "output_type": "stream",
     "text": [
      "Hay  8 planetas\n",
      "Pluton  es el último planeta\n"
     ]
    }
   ],
   "source": [
    "planetas=['Mercurio','Venus','Tierra','Marte','Jupiter','Saturno','Neptuno','Urano']\n",
    "print('Hay ', len(planetas), 'planetas')\n",
    "planetas.append('Pluton')\n",
    "print(planetas[-1],' es el último planeta')"
   ]
  },
  {
   "cell_type": "markdown",
   "metadata": {},
   "source": [
    "# Ejercicio 2: Trabajando con datos de una lista"
   ]
  },
  {
   "cell_type": "code",
   "execution_count": 3,
   "metadata": {},
   "outputs": [],
   "source": [
    "planetas=['Mercurio','Venus','Tierra','Marte','Jupiter','Saturno','Neptuno','Urano']\n",
    "nom_planeta=input('¿cual planeta buscas?')\n",
    "ind_planet=planetas.index(nom_planeta)\n",
    "print('Planetas mas cercanos que ', nom_planeta)\n",
    "print(planetas[0:ind_planet])\n",
    "print('Planetas más lejanos que ', nom_planeta)\n",
    "print(planetas[ind_planet + 1:])"
   ]
  }
 ],
 "metadata": {
  "interpreter": {
   "hash": "aa866c430e6c2251e1d9b9da0f458e28b57e4a0231992b33e2e06b01195de216"
  },
  "kernelspec": {
   "display_name": "Python 3.9.2 64-bit",
   "language": "python",
   "name": "python3"
  },
  "language_info": {
   "codemirror_mode": {
    "name": "ipython",
    "version": 3
   },
   "file_extension": ".py",
   "mimetype": "text/x-python",
   "name": "python",
   "nbconvert_exporter": "python",
   "pygments_lexer": "ipython3",
   "version": "3.9.2"
  },
  "orig_nbformat": 4
 },
 "nbformat": 4,
 "nbformat_minor": 2
}
