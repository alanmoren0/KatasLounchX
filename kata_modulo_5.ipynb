{
 "cells": [
  {
   "cell_type": "markdown",
   "metadata": {},
   "source": [
    "# Ejercicio1 - Utilizar operadores aritméticos"
   ]
  },
  {
   "cell_type": "code",
   "execution_count": 1,
   "metadata": {},
   "outputs": [
    {
     "name": "stdout",
     "output_type": "stream",
     "text": [
      "390577533.93\n"
     ]
    }
   ],
   "source": [
    "dist_tierra = 149597870\n",
    "dist_jupiter = 778547200\n",
    "dist_planetas=(dist_jupiter-dist_tierra)*0.621\n",
    "print(dist_planetas)"
   ]
  },
  {
   "cell_type": "markdown",
   "metadata": {},
   "source": [
    "# Ejercicio 2: convierte cadenas en números y usa valores absolutos"
   ]
  },
  {
   "cell_type": "code",
   "execution_count": 1,
   "metadata": {},
   "outputs": [
    {
     "name": "stdout",
     "output_type": "stream",
     "text": [
      "6211.863\n"
     ]
    }
   ],
   "source": [
    "planeta_uno=input('distancia planeta uno')\n",
    "planeta_dos=input('distancia planeta dos')\n",
    "planeta_uno=int(planeta_uno)\n",
    "planeta_dos=int(planeta_dos)\n",
    "dist_planetas=(planeta_uno-planeta_dos)*0.621\n",
    "print('diferencia entre el planeta uno y dos: ',abs(dist_planetas))"
   ]
  }
 ],
 "metadata": {
  "interpreter": {
   "hash": "aa866c430e6c2251e1d9b9da0f458e28b57e4a0231992b33e2e06b01195de216"
  },
  "kernelspec": {
   "display_name": "Python 3.9.2 64-bit",
   "language": "python",
   "name": "python3"
  },
  "language_info": {
   "codemirror_mode": {
    "name": "ipython",
    "version": 3
   },
   "file_extension": ".py",
   "mimetype": "text/x-python",
   "name": "python",
   "nbconvert_exporter": "python",
   "pygments_lexer": "ipython3",
   "version": "3.9.2"
  },
  "orig_nbformat": 4
 },
 "nbformat": 4,
 "nbformat_minor": 2
}
