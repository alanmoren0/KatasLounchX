{
 "cells": [
  {
   "cell_type": "markdown",
   "metadata": {},
   "source": [
    "# Ejercicio 1: Trabajar con argumentos en funciones\n"
   ]
  },
  {
   "cell_type": "code",
   "execution_count": 2,
   "metadata": {},
   "outputs": [
    {
     "name": "stdout",
     "output_type": "stream",
     "text": [
      "el nivel del tanque es: 34.0\n",
      "el nivel del tanque es: 34.0\n"
     ]
    }
   ],
   "source": [
    "def reporte_tanque(tanque1,tanque2,tanque3):\n",
    "    tanques=[tanque1,tanque2,tanque3]\n",
    "    return f'el nivel del tanque es: {sum(tanques)/len(tanques)}'\n",
    "\n",
    "print(reporte_tanque(13,24,65))\n",
    "\n",
    "def promedio(values):\n",
    "    return sum(values)/len(values)\n",
    "\n",
    "def reporte_tanque_uptd(tanque1,tanque2,tanque3):\n",
    "    tanques=[tanque1,tanque2,tanque3]\n",
    "    lvl_promedio=promedio(tanques)\n",
    "    return f'el nivel del tanque es: {lvl_promedio}'\n",
    "\n",
    "print(reporte_tanque_uptd(13,24,65))"
   ]
  },
  {
   "cell_type": "markdown",
   "metadata": {},
   "source": [
    "# Ejercicio 2: Trabajo con argumentos de palabra clave"
   ]
  },
  {
   "cell_type": "code",
   "execution_count": 1,
   "metadata": {},
   "outputs": [
    {
     "name": "stdout",
     "output_type": "stream",
     "text": [
      "\n",
      "    destino luna\n",
      "    Tiempo de vuelo: 80 minutos\n",
      "    Combustible total: 15000 litros\n",
      "    \n",
      "\n",
      "    destino luna\n",
      "    Tiempo de vuelo: 80 minutos\n",
      "    Combustible total: 15000 litros\n",
      "    \n",
      "\n",
      "    destino luna\n",
      "    Tiempo de vuelo: 80 minutos\n",
      "    Combustible total: 15000 litros\n",
      "    interno tanque --> 10000 litros\n",
      "externo tanque --> 5000 litros\n",
      "\n"
     ]
    }
   ],
   "source": [
    "def reporte_preciso(pre_launch_time, tiempo_vuelo, destino, tanque_externo, tanque_interno):\n",
    "    return f\"\"\"\n",
    "    destino {destino}\n",
    "    Tiempo de vuelo: {pre_launch_time + tiempo_vuelo} minutos\n",
    "    Combustible total: {tanque_interno+tanque_externo} litros\n",
    "    \"\"\"\n",
    "\n",
    "print(reporte_preciso(20,60,'luna',5000,10000))\n",
    "\n",
    "def reporte_preciso_updt(destino, *minutos_vuelo, **total_tanque):\n",
    "    return f\"\"\"\n",
    "    destino {destino}\n",
    "    Tiempo de vuelo: {sum(minutos_vuelo)} minutos\n",
    "    Combustible total: {sum(total_tanque.values())} litros\n",
    "    \"\"\"\n",
    "\n",
    "print(reporte_preciso_updt('luna',20,60,interno=10000,externo=5000))\n",
    "\n",
    "\n",
    "def reporte_preciso_updt2(destino, *minutos_vuelo, **total_tanque):\n",
    "    reporte= f\"\"\"\n",
    "    destino {destino}\n",
    "    Tiempo de vuelo: {sum(minutos_vuelo)} minutos\n",
    "    Combustible total: {sum(total_tanque.values())} litros\n",
    "    \"\"\"\n",
    "    for tanque, litros in total_tanque.items():\n",
    "        reporte += f\"{tanque} tanque --> {litros} litros\\n\"\n",
    "    return reporte\n",
    "\n",
    "print(reporte_preciso_updt2('luna',20,60,interno=10000,externo=5000))\n",
    "\n"
   ]
  }
 ],
 "metadata": {
  "interpreter": {
   "hash": "aa866c430e6c2251e1d9b9da0f458e28b57e4a0231992b33e2e06b01195de216"
  },
  "kernelspec": {
   "display_name": "Python 3.9.2 64-bit",
   "language": "python",
   "name": "python3"
  },
  "language_info": {
   "codemirror_mode": {
    "name": "ipython",
    "version": 3
   },
   "file_extension": ".py",
   "mimetype": "text/x-python",
   "name": "python",
   "nbconvert_exporter": "python",
   "pygments_lexer": "ipython3",
   "version": "3.9.2"
  },
  "orig_nbformat": 4
 },
 "nbformat": 4,
 "nbformat_minor": 2
}
